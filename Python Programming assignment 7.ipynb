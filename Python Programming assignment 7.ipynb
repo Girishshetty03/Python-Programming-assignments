{
 "cells": [
  {
   "cell_type": "markdown",
   "id": "46749e6b",
   "metadata": {},
   "source": [
    "1)Write a Python Program to find sum of array?"
   ]
  },
  {
   "cell_type": "code",
   "execution_count": 12,
   "id": "4d6a46d8",
   "metadata": {},
   "outputs": [
    {
     "name": "stdout",
     "output_type": "stream",
     "text": [
      "Enter the Array: [1,2,3,4,5]\n",
      "The sum of [1, 2, 3, 4, 5] is 15\n"
     ]
    }
   ],
   "source": [
    "def sumofArray():\n",
    "    arr = eval(input(\"Enter the Array: \"))\n",
    "    result = sum(arr)\n",
    "    print('The sum of',arr,'is',result)\n",
    "\n",
    "sumofArray()"
   ]
  },
  {
   "cell_type": "markdown",
   "id": "8bbd5b6d",
   "metadata": {},
   "source": [
    "2)Write a Python Program to find largest element in an array?"
   ]
  },
  {
   "cell_type": "code",
   "execution_count": 20,
   "id": "cafbe05e",
   "metadata": {},
   "outputs": [
    {
     "name": "stdout",
     "output_type": "stream",
     "text": [
      "Enter the Array : [2,5,4,6,8]\n",
      "largest element in an array is 8\n"
     ]
    }
   ],
   "source": [
    "def largestelement():\n",
    "    arr = eval(input('Enter the Array : '))\n",
    "    result = max(arr)\n",
    "    print(f'largest element in an array is {result}')\n",
    "    \n",
    "largestelement()"
   ]
  },
  {
   "cell_type": "markdown",
   "id": "02adb003",
   "metadata": {},
   "source": [
    "3)Write a Python Program for array rotation?"
   ]
  },
  {
   "cell_type": "code",
   "execution_count": 15,
   "id": "ab5d88e7",
   "metadata": {},
   "outputs": [
    {
     "name": "stdout",
     "output_type": "stream",
     "text": [
      "Enter the array : [4,5,6,7,8,9]\n",
      "[9, 8, 7, 6, 5, 4]\n"
     ]
    }
   ],
   "source": [
    "def arrayrotaton():\n",
    "    arr = eval(input('Enter the array : '))\n",
    "    result = arr[::-1]\n",
    "    print(result)\n",
    "     \n",
    "arrayrotaton()"
   ]
  },
  {
   "cell_type": "markdown",
   "id": "370b7f5b",
   "metadata": {},
   "source": [
    "4)Write a Python Program to Split the array and add the first part to the end?"
   ]
  },
  {
   "cell_type": "code",
   "execution_count": 16,
   "id": "90e651c4",
   "metadata": {},
   "outputs": [
    {
     "name": "stdout",
     "output_type": "stream",
     "text": [
      "Enter the array : [2,3,5,8,2]\n",
      "4\n"
     ]
    }
   ],
   "source": [
    "def sumofsplite():\n",
    "    arr = eval(input('Enter the array : '))\n",
    "    result = arr[0]+arr[-1]\n",
    "    print(result)\n",
    "\n",
    "sumofsplite()"
   ]
  },
  {
   "cell_type": "markdown",
   "id": "0321bedb",
   "metadata": {},
   "source": [
    "5)Write a Python Program to check if given array is Monotonic?"
   ]
  },
  {
   "cell_type": "code",
   "execution_count": null,
   "id": "f10a7a9e",
   "metadata": {},
   "outputs": [],
   "source": []
  }
 ],
 "metadata": {
  "kernelspec": {
   "display_name": "Python 3 (ipykernel)",
   "language": "python",
   "name": "python3"
  },
  "language_info": {
   "codemirror_mode": {
    "name": "ipython",
    "version": 3
   },
   "file_extension": ".py",
   "mimetype": "text/x-python",
   "name": "python",
   "nbconvert_exporter": "python",
   "pygments_lexer": "ipython3",
   "version": "3.9.12"
  }
 },
 "nbformat": 4,
 "nbformat_minor": 5
}
