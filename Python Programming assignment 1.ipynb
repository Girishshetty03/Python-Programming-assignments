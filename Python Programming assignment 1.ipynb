{
 "cells": [
  {
   "cell_type": "markdown",
   "id": "e33a266d",
   "metadata": {},
   "source": [
    "1)Write a Python program to print \"Hello Python\"?"
   ]
  },
  {
   "cell_type": "code",
   "execution_count": 38,
   "id": "15f82ba2",
   "metadata": {},
   "outputs": [
    {
     "name": "stdout",
     "output_type": "stream",
     "text": [
      "Hello Python\n"
     ]
    }
   ],
   "source": [
    "a=\"Hello Python\"\n",
    "print(a)"
   ]
  },
  {
   "cell_type": "markdown",
   "id": "a805ee18",
   "metadata": {},
   "source": [
    "2)Write a Python program to do arithmetical operations addition and division.?"
   ]
  },
  {
   "cell_type": "code",
   "execution_count": 37,
   "id": "c2549d3b",
   "metadata": {},
   "outputs": [
    {
     "name": "stdout",
     "output_type": "stream",
     "text": [
      "1.Addtion \n",
      "2.Division\n",
      "select operation :1\n",
      "enter a 1st number :586\n",
      "enter a 2nd number :565\n",
      "586 + 565 = 1151\n"
     ]
    }
   ],
   "source": [
    "print('1.''Addtion','\\n''2.''Division')\n",
    "a=int(input('select operation :'))\n",
    "num1=int(input('enter a 1st number :'))\n",
    "num2=int(input('enter a 2nd number :'))\n",
    "if a==1:\n",
    "    print(num1,'+',num2,'=',num1+num2)\n",
    "elif a==2:\n",
    "    print(num1/num2)\n",
    "else:\n",
    "    print('Select correct operation')"
   ]
  },
  {
   "cell_type": "markdown",
   "id": "70292231",
   "metadata": {},
   "source": [
    "3)Write a Python program to find the area of a triangle?"
   ]
  },
  {
   "cell_type": "code",
   "execution_count": 42,
   "id": "f4c68ffd",
   "metadata": {},
   "outputs": [
    {
     "name": "stdout",
     "output_type": "stream",
     "text": [
      "Enter height of triangle: 25\n",
      "Enter base of triangle: 26\n",
      "Area of triangle = 325.0\n"
     ]
    }
   ],
   "source": [
    "height = int(input('Enter height of triangle: '))\n",
    "base = int(input('Enter base of triangle: '))\n",
    "\n",
    "def areaOfTriangle(height, base):\n",
    "    print('Area of triangle =', 0.5*height*base)\n",
    "\n",
    "areaOfTriangle(height,base)"
   ]
  },
  {
   "cell_type": "markdown",
   "id": "4b4cd50c",
   "metadata": {},
   "source": [
    "4)Write a Python program to swap two variables?"
   ]
  },
  {
   "cell_type": "code",
   "execution_count": 45,
   "id": "7a100021",
   "metadata": {},
   "outputs": [
    {
     "name": "stdout",
     "output_type": "stream",
     "text": [
      "value of a: 200\n",
      "value of b: 100\n"
     ]
    }
   ],
   "source": [
    "a=100\n",
    "b=200\n",
    "temp = a\n",
    "a=b\n",
    "b=temp\n",
    "print('value of a:',a)\n",
    "print('value of b:',b)\n"
   ]
  },
  {
   "cell_type": "markdown",
   "id": "ce584f33",
   "metadata": {},
   "source": [
    "5)Write a Python program to generate a random number?"
   ]
  },
  {
   "cell_type": "code",
   "execution_count": 49,
   "id": "1809df22",
   "metadata": {},
   "outputs": [
    {
     "name": "stdout",
     "output_type": "stream",
     "text": [
      "Random number = 8718\n",
      "Random number = 97\n"
     ]
    }
   ],
   "source": [
    "from random import randint\n",
    "\n",
    "def generateRandomNumber(start=0, end=100000):\n",
    "    print('Random number =',randint(start,end))\n",
    "    \n",
    "generateRandomNumber()\n",
    "generateRandomNumber(0,100)"
   ]
  },
  {
   "cell_type": "code",
   "execution_count": null,
   "id": "3b2d518e",
   "metadata": {},
   "outputs": [],
   "source": []
  }
 ],
 "metadata": {
  "kernelspec": {
   "display_name": "Python 3 (ipykernel)",
   "language": "python",
   "name": "python3"
  },
  "language_info": {
   "codemirror_mode": {
    "name": "ipython",
    "version": 3
   },
   "file_extension": ".py",
   "mimetype": "text/x-python",
   "name": "python",
   "nbconvert_exporter": "python",
   "pygments_lexer": "ipython3",
   "version": "3.9.12"
  }
 },
 "nbformat": 4,
 "nbformat_minor": 5
}
