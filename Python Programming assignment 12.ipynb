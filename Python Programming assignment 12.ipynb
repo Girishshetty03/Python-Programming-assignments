{
 "cells": [
  {
   "cell_type": "markdown",
   "id": "eb391b2a",
   "metadata": {},
   "source": [
    "1)Write a Python program to Extract Unique values dictionary values?"
   ]
  },
  {
   "cell_type": "code",
   "execution_count": 5,
   "id": "65b1ed4a",
   "metadata": {},
   "outputs": [
    {
     "name": "stdout",
     "output_type": "stream",
     "text": [
      "{'value4', 'value2', 'value3', 'value1'}\n"
     ]
    }
   ],
   "source": [
    "my_dict = {\"key1\": \"value1\", \"key2\": \"value2\", \"key3\": \"value3\", \"key4\": \"value4\"}\n",
    "\n",
    "unique_values = set(my_dict.values())\n",
    "\n",
    "print(unique_values)\n"
   ]
  },
  {
   "cell_type": "markdown",
   "id": "139ddfd7",
   "metadata": {},
   "source": [
    "2)Write a Python program to find the sum of all items in a dictionary?"
   ]
  },
  {
   "cell_type": "code",
   "execution_count": 10,
   "id": "70fd05a1",
   "metadata": {},
   "outputs": [
    {
     "name": "stdout",
     "output_type": "stream",
     "text": [
      "The sum of all items in the dictionary is:1000\n"
     ]
    }
   ],
   "source": [
    "my_dict = {'a': 100, 'b': 200, 'c': 300, 'd': 400}\n",
    "\n",
    "total_sum = sum(my_dict.values())\n",
    "\n",
    "print(\"The sum of all items in the dictionary is:{}\".format(total_sum))\n"
   ]
  },
  {
   "cell_type": "markdown",
   "id": "e63cb4c4",
   "metadata": {},
   "source": [
    "3)Write a Python program to Merging two Dictionaries?"
   ]
  },
  {
   "cell_type": "code",
   "execution_count": 11,
   "id": "4393a108",
   "metadata": {},
   "outputs": [
    {
     "name": "stdout",
     "output_type": "stream",
     "text": [
      "Merged dictionary: {'a': 100, 'b': 200, 'c': 300, 'd': 400}\n"
     ]
    }
   ],
   "source": [
    "dict1 = {'a': 100, 'b': 200}\n",
    "dict2 = {'c': 300, 'd': 400}\n",
    "\n",
    "merged_dict = {**dict1, **dict2}\n",
    "\n",
    "print(\"Merged dictionary:\", merged_dict)\n"
   ]
  },
  {
   "cell_type": "markdown",
   "id": "b247080d",
   "metadata": {},
   "source": [
    "4)Write a Python program to convert key-values list to flat dictionary?"
   ]
  },
  {
   "cell_type": "code",
   "execution_count": 12,
   "id": "de1e7c0b",
   "metadata": {},
   "outputs": [
    {
     "name": "stdout",
     "output_type": "stream",
     "text": [
      "Flat dictionary: {'key1': 'value1', 'key2': 'value2', 'key3': 'value3'}\n"
     ]
    }
   ],
   "source": [
    "key_value_list = [(\"key1\", \"value1\"), (\"key2\", \"value2\"), (\"key3\", \"value3\")]\n",
    "\n",
    "flat_dict = dict(key_value_list)\n",
    "\n",
    "print(\"Flat dictionary:\", flat_dict)\n"
   ]
  },
  {
   "cell_type": "markdown",
   "id": "7dfc1a1b",
   "metadata": {},
   "source": [
    "5)Write a Python program to insertion at the beginning in OrderedDict?"
   ]
  },
  {
   "cell_type": "code",
   "execution_count": 13,
   "id": "61492385",
   "metadata": {},
   "outputs": [
    {
     "name": "stdout",
     "output_type": "stream",
     "text": [
      "OrderedDict after insertion: OrderedDict([('d', 4), ('a', 1), ('b', 2), ('c', 3)])\n"
     ]
    }
   ],
   "source": [
    "from collections import OrderedDict\n",
    "\n",
    "my_ordered_dict = OrderedDict([('a', 1), ('b', 2), ('c', 3)])\n",
    "\n",
    "my_ordered_dict.update({'d': 4})\n",
    "my_ordered_dict.move_to_end('d', last=False)\n",
    "\n",
    "print(\"OrderedDict after insertion:\", my_ordered_dict)\n"
   ]
  },
  {
   "cell_type": "markdown",
   "id": "b2f121df",
   "metadata": {},
   "source": [
    "7)Write a Python program to sort Python Dictionaries by Key or Value?"
   ]
  },
  {
   "cell_type": "code",
   "execution_count": 14,
   "id": "80684723",
   "metadata": {},
   "outputs": [
    {
     "name": "stdout",
     "output_type": "stream",
     "text": [
      "Sorted dictionary by key: {'a': 100, 'b': 200, 'c': 300}\n",
      "Sorted dictionary by value: {'a': 100, 'b': 200, 'c': 300}\n"
     ]
    }
   ],
   "source": [
    "my_dict = {'c': 300, 'a': 100, 'b': 200}\n",
    "sorted_dict_by_key = dict(sorted(my_dict.items()))\n",
    "print(\"Sorted dictionary by key:\", sorted_dict_by_key)\n",
    "sorted_dict_by_value = dict(sorted(my_dict.items(), key=lambda item: item[1]))\n",
    "print(\"Sorted dictionary by value:\", sorted_dict_by_value)\n"
   ]
  },
  {
   "cell_type": "code",
   "execution_count": null,
   "id": "9790ece9",
   "metadata": {},
   "outputs": [],
   "source": []
  }
 ],
 "metadata": {
  "kernelspec": {
   "display_name": "Python 3 (ipykernel)",
   "language": "python",
   "name": "python3"
  },
  "language_info": {
   "codemirror_mode": {
    "name": "ipython",
    "version": 3
   },
   "file_extension": ".py",
   "mimetype": "text/x-python",
   "name": "python",
   "nbconvert_exporter": "python",
   "pygments_lexer": "ipython3",
   "version": "3.9.12"
  }
 },
 "nbformat": 4,
 "nbformat_minor": 5
}
