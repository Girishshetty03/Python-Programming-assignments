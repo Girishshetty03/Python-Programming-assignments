{
 "cells": [
  {
   "cell_type": "markdown",
   "id": "4c2188eb",
   "metadata": {},
   "source": [
    "1)Write a Python program to find sum of elements in list?"
   ]
  },
  {
   "cell_type": "code",
   "execution_count": 3,
   "id": "c210c1ef",
   "metadata": {},
   "outputs": [
    {
     "name": "stdout",
     "output_type": "stream",
     "text": [
      "Sum of all elements in given list:  18\n"
     ]
    }
   ],
   "source": [
    "total = 0\n",
    "list1 = [1,5,4,8]\n",
    "for ele in range(0, len(list1)):\n",
    "    total = total + list1[ele]\n",
    "print(\"Sum of all elements in given list: \", total)"
   ]
  },
  {
   "cell_type": "markdown",
   "id": "b333c75a",
   "metadata": {},
   "source": [
    "2)Write a Python program to  Multiply all numbers in the list?"
   ]
  },
  {
   "cell_type": "code",
   "execution_count": 5,
   "id": "e7827780",
   "metadata": {},
   "outputs": [
    {
     "name": "stdout",
     "output_type": "stream",
     "text": [
      "24\n"
     ]
    }
   ],
   "source": [
    "def multiplyList(myList):\n",
    " \n",
    "    result = 1\n",
    "    for x in myList:\n",
    "        result = result * x\n",
    "    return result\n",
    " \n",
    "list1 = [1, 2, 3, 4]\n",
    "print(multiplyList(list1))\n"
   ]
  },
  {
   "cell_type": "markdown",
   "id": "37714689",
   "metadata": {},
   "source": [
    "3)Write a Python program to find smallest number in a list?"
   ]
  },
  {
   "cell_type": "code",
   "execution_count": 8,
   "id": "3716e1d9",
   "metadata": {},
   "outputs": [
    {
     "name": "stdout",
     "output_type": "stream",
     "text": [
      "Smallest number is: 4\n"
     ]
    }
   ],
   "source": [
    "list1 = [10, 20, 4, 45, 99]\n",
    " \n",
    "list1.sort()\n",
    "print(\"Smallest number is:\", list1[0])\n"
   ]
  },
  {
   "cell_type": "markdown",
   "id": "d83ed39d",
   "metadata": {},
   "source": [
    "4)Write a Python program to find largest number in a list?"
   ]
  },
  {
   "cell_type": "code",
   "execution_count": 16,
   "id": "30153831",
   "metadata": {},
   "outputs": [
    {
     "name": "stdout",
     "output_type": "stream",
     "text": [
      "largest number is : 25\n"
     ]
    }
   ],
   "source": [
    "list = [1,5,2,7,20,25,36]\n",
    "def largestnumber():\n",
    "    list.sort()\n",
    "    print('largest number is :',list[-1])\n",
    "    \n",
    "largestnumber()    \n"
   ]
  },
  {
   "cell_type": "markdown",
   "id": "edfcefe7",
   "metadata": {},
   "source": [
    "5)Write a Python program to find second largest number in a list?"
   ]
  },
  {
   "cell_type": "code",
   "execution_count": 18,
   "id": "a13474d1",
   "metadata": {},
   "outputs": [
    {
     "name": "stdout",
     "output_type": "stream",
     "text": [
      "largest number is : 25\n"
     ]
    }
   ],
   "source": [
    "list = [1,5,2,7,20,25,36]\n",
    "def secondlargestnumber():\n",
    "    list.sort()\n",
    "    print('largest number is :',list[-2])\n",
    "    \n",
    "secondlargestnumber()    \n"
   ]
  },
  {
   "cell_type": "markdown",
   "id": "97e76002",
   "metadata": {},
   "source": [
    "6)Write a Python program to find N largest elements from a list?"
   ]
  },
  {
   "cell_type": "code",
   "execution_count": 19,
   "id": "e8b27e2b",
   "metadata": {},
   "outputs": [
    {
     "name": "stdout",
     "output_type": "stream",
     "text": [
      "[298, 900, 1000, 3579]\n"
     ]
    }
   ],
   "source": [
    "l = [1000,298,3579,100,200,-45,900]\n",
    "n = 4\n",
    " \n",
    "l.sort()\n",
    "print(l[-n:])"
   ]
  },
  {
   "cell_type": "markdown",
   "id": "50add87a",
   "metadata": {},
   "source": [
    "7)Write a Python program to print even numbers in a list?"
   ]
  },
  {
   "cell_type": "code",
   "execution_count": 45,
   "id": "b37fdccb",
   "metadata": {},
   "outputs": [
    {
     "name": "stdout",
     "output_type": "stream",
     "text": [
      "10\n",
      "4\n",
      "66\n"
     ]
    }
   ],
   "source": [
    "list = [10, 21, 4, 45, 66, 93]\n",
    "for even_numbers in list:\n",
    "    if even_numbers % 2 == 0:\n",
    "        print(even_numbers)"
   ]
  },
  {
   "cell_type": "markdown",
   "id": "d3e79f29",
   "metadata": {},
   "source": [
    "8)Write a Python program to print odd numbers in a List?"
   ]
  },
  {
   "cell_type": "code",
   "execution_count": 32,
   "id": "4fef60e4",
   "metadata": {},
   "outputs": [
    {
     "name": "stdout",
     "output_type": "stream",
     "text": [
      "21\n",
      "45\n",
      "93\n"
     ]
    }
   ],
   "source": [
    "list1 = [10, 21, 4, 45, 66, 93]\n",
    " \n",
    "for num in list1:\n",
    "    if num % 2 != 0:\n",
    "        print(num)"
   ]
  },
  {
   "cell_type": "markdown",
   "id": "436956e8",
   "metadata": {},
   "source": [
    "9)Write a Python program to Remove empty List from List?"
   ]
  },
  {
   "cell_type": "code",
   "execution_count": 53,
   "id": "9e06b435",
   "metadata": {},
   "outputs": [
    {
     "name": "stdout",
     "output_type": "stream",
     "text": [
      "[1, 2, 5, 2, 87, 54]\n"
     ]
    }
   ],
   "source": [
    "list = [1,2,5,2,87,54,[]]\n",
    "if [] in list:\n",
    "    list.remove([])\n",
    "    print(list)"
   ]
  },
  {
   "cell_type": "markdown",
   "id": "f0c191aa",
   "metadata": {},
   "source": [
    "10)Write a Python program to Count occurrences of an element in a list?"
   ]
  },
  {
   "cell_type": "code",
   "execution_count": 57,
   "id": "03a21b51",
   "metadata": {},
   "outputs": [
    {
     "name": "stdout",
     "output_type": "stream",
     "text": [
      "3 has occurred 2 times\n"
     ]
    }
   ],
   "source": [
    "from collections import Counter\n",
    "l = [1, 1, 2, 2, 3, 3, 4, 4, 5, 5]\n",
    "x = 3\n",
    "d = Counter(l)\n",
    "print('{} has occurred {} times'.format(x, d[3]))"
   ]
  },
  {
   "cell_type": "code",
   "execution_count": null,
   "id": "5725cccf",
   "metadata": {},
   "outputs": [],
   "source": []
  }
 ],
 "metadata": {
  "kernelspec": {
   "display_name": "Python 3 (ipykernel)",
   "language": "python",
   "name": "python3"
  },
  "language_info": {
   "codemirror_mode": {
    "name": "ipython",
    "version": 3
   },
   "file_extension": ".py",
   "mimetype": "text/x-python",
   "name": "python",
   "nbconvert_exporter": "python",
   "pygments_lexer": "ipython3",
   "version": "3.9.12"
  }
 },
 "nbformat": 4,
 "nbformat_minor": 5
}
