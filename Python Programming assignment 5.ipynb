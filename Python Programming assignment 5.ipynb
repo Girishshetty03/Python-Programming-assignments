{
 "cells": [
  {
   "cell_type": "markdown",
   "id": "7f61bee4",
   "metadata": {},
   "source": [
    "1)Write a Python Program to Find LCM?"
   ]
  },
  {
   "cell_type": "code",
   "execution_count": 10,
   "id": "34cc95bb",
   "metadata": {},
   "outputs": [
    {
     "name": "stdout",
     "output_type": "stream",
     "text": [
      "The LCM of 3,6 is 6\n",
      "The LCM of 5,2 is 10\n",
      "The LCM of 5,100 is 100\n"
     ]
    }
   ],
   "source": [
    "def findTheLcm(x_term,y_term):\n",
    "    if x_term > y_term:\n",
    "        greater = x_term\n",
    "    else:\n",
    "        greater = x_term\n",
    "    while True:\n",
    "        if((greater%x_term == 0) and (greater%y_term == 0)):\n",
    "            lcm = greater\n",
    "            break\n",
    "        else:\n",
    "            greater +=1\n",
    "    print(f'The LCM of {x_term},{y_term} is {lcm}')\n",
    "\n",
    "findTheLcm(3,6)\n",
    "findTheLcm(5,2)\n",
    "findTheLcm(5,100)"
   ]
  },
  {
   "cell_type": "markdown",
   "id": "a12c64c0",
   "metadata": {},
   "source": [
    "2)Write a Python Program to find HCF ?"
   ]
  },
  {
   "cell_type": "code",
   "execution_count": 11,
   "id": "f80c06cd",
   "metadata": {},
   "outputs": [
    {
     "name": "stdout",
     "output_type": "stream",
     "text": [
      "The HCF of 6,12 is 6\n",
      "The HCF of 2,3 is 1\n",
      "The HCF of 10,23 is 1\n"
     ]
    }
   ],
   "source": [
    "def findTheHcf(x_term,y_term):\n",
    "    if x_term>y_term:\n",
    "        smaller = y_term\n",
    "    else:\n",
    "        smaller = x_term\n",
    "    for ele in range(1,smaller+1):\n",
    "        if((x_term%ele == 0) and (y_term%ele == 0)):\n",
    "            hcf = ele\n",
    "    print(f'The HCF of {x_term},{y_term} is {hcf}')\n",
    "\n",
    "findTheHcf(6,12)\n",
    "findTheHcf(2,3)\n",
    "findTheHcf(10,23)"
   ]
  },
  {
   "cell_type": "markdown",
   "id": "62584a49",
   "metadata": {},
   "source": [
    "3)Write a Python Program to Convert Decimal to Binary, Octal and Hexadecimal?"
   ]
  },
  {
   "cell_type": "code",
   "execution_count": 15,
   "id": "8c0f7da3",
   "metadata": {},
   "outputs": [
    {
     "name": "stdout",
     "output_type": "stream",
     "text": [
      "Enter a Number: 24\n",
      "Binary Number = 0b11000\n",
      "Octal Number = 0o30\n",
      "Hexadecimal Number = 0x18\n"
     ]
    }
   ],
   "source": [
    "def DecimalToOther():\n",
    "    num = int(input('Enter a Number: '))\n",
    "    print('Binary Number =',bin(num))\n",
    "    print('Octal Number =' , oct(num))    \n",
    "    print('Hexadecimal Number =' , hex(num))    \n",
    "\n",
    "DecimalToOther()"
   ]
  },
  {
   "cell_type": "markdown",
   "id": "fc81aba2",
   "metadata": {},
   "source": [
    "4)Write a Python Program To Find ASCII value of a character?"
   ]
  },
  {
   "cell_type": "code",
   "execution_count": 17,
   "id": "0782b058",
   "metadata": {},
   "outputs": [
    {
     "name": "stdout",
     "output_type": "stream",
     "text": [
      "Enter a Character: 1\n",
      "Ascii Character of 1 is 49\n"
     ]
    }
   ],
   "source": [
    "def charToAscii():\n",
    "    char = input('Enter a Character: ')\n",
    "    if len(char) > 1:\n",
    "        print('Please Enter a Single Character')\n",
    "    else:\n",
    "        print(f'Ascii Character of {char} is {ord(char)}')\n",
    "\n",
    "charToAscii()"
   ]
  },
  {
   "cell_type": "markdown",
   "id": "56785d64",
   "metadata": {},
   "source": [
    "5)Write a Python Program to Make a Simple Calculator with 4 basic mathematical operations"
   ]
  },
  {
   "cell_type": "code",
   "execution_count": 1,
   "id": "bd57a73f",
   "metadata": {},
   "outputs": [
    {
     "name": "stdout",
     "output_type": "stream",
     "text": [
      "please select the operation:\n",
      "a. add\n",
      "b. subtract\n",
      "c. divide\n",
      "d. multiply\n",
      "select one option :a\n",
      "enter 1st number : 50\n",
      "enter 2nd number : 25\n",
      "75.0\n"
     ]
    }
   ],
   "source": [
    "def add(P,Q):\n",
    "    return P + Q\n",
    "def subtract( P ,Q):\n",
    "    return P -  Q\n",
    "def divide (P ,Q):\n",
    "    return P / Q\n",
    "def multiply (P,Q):\n",
    "    return P * Q\n",
    "\n",
    "print('please select the operation:')\n",
    "print('a. add')\n",
    "print('b. subtract')\n",
    "print('c. divide')\n",
    "print('d. multiply')\n",
    "\n",
    "choice = input('select one option :' )\n",
    "\n",
    "num1 = float(input('enter 1st number : '))\n",
    "num2 = float(input('enter 2nd number : '))\n",
    "\n",
    "if choice == 'a':\n",
    "    print(add(num1,num2))\n",
    "\n",
    "elif choice == 'b':\n",
    "    print(subtract(num1,num2))\n",
    "\n",
    "elif choice=='c':\n",
    "    print(divide(num1,num2))\n",
    "\n",
    "elif choice=='d':\n",
    "    print(multiply(num1,num2))\n",
    "    \n",
    "else:\n",
    "    print('select correct operation')"
   ]
  },
  {
   "cell_type": "code",
   "execution_count": null,
   "id": "9b813b08",
   "metadata": {},
   "outputs": [],
   "source": []
  }
 ],
 "metadata": {
  "kernelspec": {
   "display_name": "Python 3 (ipykernel)",
   "language": "python",
   "name": "python3"
  },
  "language_info": {
   "codemirror_mode": {
    "name": "ipython",
    "version": 3
   },
   "file_extension": ".py",
   "mimetype": "text/x-python",
   "name": "python",
   "nbconvert_exporter": "python",
   "pygments_lexer": "ipython3",
   "version": "3.9.12"
  }
 },
 "nbformat": 4,
 "nbformat_minor": 5
}
