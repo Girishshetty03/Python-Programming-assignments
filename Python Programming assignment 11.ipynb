{
 "cells": [
  {
   "cell_type": "markdown",
   "id": "d1bf98dd",
   "metadata": {},
   "source": [
    "1)Write a Python program to find words which are greater than given length k?"
   ]
  },
  {
   "cell_type": "code",
   "execution_count": 18,
   "id": "7e310dd7",
   "metadata": {},
   "outputs": [
    {
     "name": "stdout",
     "output_type": "stream",
     "text": [
      "[['This', 'is', 'a', 'sample', 'text', 'to', 'test', 'the', 'program']]\n"
     ]
    }
   ],
   "source": [
    "def greater_than_k(text, k):\n",
    "    words = text.split()\n",
    "    result = []\n",
    "    for word in words:\n",
    "        if len(words) > k:\n",
    "            result.append(words)\n",
    "            return result\n",
    "\n",
    "text = \"This is a sample text to test the program\"\n",
    "k = 4\n",
    "print(greater_than_k(text, k))"
   ]
  },
  {
   "cell_type": "markdown",
   "id": "e11cafb7",
   "metadata": {},
   "source": [
    "2)Write a Python program for removing i-th character from a string?"
   ]
  },
  {
   "cell_type": "code",
   "execution_count": 19,
   "id": "0df72656",
   "metadata": {},
   "outputs": [
    {
     "name": "stdout",
     "output_type": "stream",
     "text": [
      "Hello World!\n"
     ]
    }
   ],
   "source": [
    "def remove_ith_char(text, i):\n",
    "    return text[:i] + text[i+1:]\n",
    "\n",
    "text = \"Hello, World!\"\n",
    "i = 5\n",
    "print(remove_ith_char(text, i))"
   ]
  },
  {
   "cell_type": "markdown",
   "id": "fcb73d3d",
   "metadata": {},
   "source": [
    "3)Write a Python program to split and join a string?"
   ]
  },
  {
   "cell_type": "code",
   "execution_count": 21,
   "id": "a8d91900",
   "metadata": {},
   "outputs": [
    {
     "name": "stdout",
     "output_type": "stream",
     "text": [
      "['This', 'is', 'a', 'sample', 'text', 'to', 'split']\n"
     ]
    }
   ],
   "source": [
    "text = \"This is a sample text to split\"\n",
    "words = text.split()\n",
    "print(words)\n"
   ]
  },
  {
   "cell_type": "code",
   "execution_count": 25,
   "id": "b56e38f6",
   "metadata": {},
   "outputs": [
    {
     "name": "stdout",
     "output_type": "stream",
     "text": [
      "This is a sample text to join\n"
     ]
    }
   ],
   "source": [
    "words = [\"This\", \"is\", \"a\", \"sample\", \"text\", \"to\", \"join\"]\n",
    "text = ' '.join(words)\n",
    "print(text)\n"
   ]
  },
  {
   "cell_type": "markdown",
   "id": "c90e9c2c",
   "metadata": {},
   "source": [
    "4)Write a Python to check if a given string is binary string or not?"
   ]
  },
  {
   "cell_type": "code",
   "execution_count": 26,
   "id": "15f5e53d",
   "metadata": {},
   "outputs": [
    {
     "name": "stdout",
     "output_type": "stream",
     "text": [
      "True\n"
     ]
    }
   ],
   "source": [
    "def is_binary_string(text):\n",
    "    return all(c == '0' or c == '1' for c in text)\n",
    "\n",
    "text = \"101010101\"\n",
    "print(is_binary_string(text))\n"
   ]
  },
  {
   "cell_type": "markdown",
   "id": "bf63ec66",
   "metadata": {},
   "source": [
    "5)Write a Python program to find uncommon words from two Strings?"
   ]
  },
  {
   "cell_type": "code",
   "execution_count": 27,
   "id": "40fe6f49",
   "metadata": {},
   "outputs": [
    {
     "name": "stdout",
     "output_type": "stream",
     "text": [
      "['with', 'is', 'This', 'a', 'first', 'test', 'program', 'compare', 'Another', 'one']\n"
     ]
    }
   ],
   "source": [
    "def uncommon_words(text1, text2):\n",
    "    words1 = set(text1.split())\n",
    "    words2 = set(text2.split())\n",
    "    return list(words1.symmetric_difference(words2))\n",
    "\n",
    "text1 = \"This is a sample text to test the program\"\n",
    "text2 = \"Another sample text to compare with the first one\"\n",
    "print(uncommon_words(text1, text2))\n"
   ]
  },
  {
   "cell_type": "markdown",
   "id": "80a47e89",
   "metadata": {},
   "source": [
    "6)Write a Python to find all duplicate characters in string?"
   ]
  },
  {
   "cell_type": "code",
   "execution_count": 29,
   "id": "06792e80",
   "metadata": {},
   "outputs": [
    {
     "name": "stdout",
     "output_type": "stream",
     "text": [
      "['h']\n"
     ]
    }
   ],
   "source": [
    "def find_duplicates(text):\n",
    "    result = set()\n",
    "    for char in text:\n",
    "        if text.count(char) > 1:\n",
    "            result.add(char)\n",
    "            return list(result)\n",
    "\n",
    "text = \"This is a sample text to find duplicate characters\"\n",
    "print(find_duplicates(text))\n"
   ]
  },
  {
   "cell_type": "markdown",
   "id": "f56dfc8d",
   "metadata": {},
   "source": [
    "7)Write a Python Program to check if a string contains any special character?"
   ]
  },
  {
   "cell_type": "code",
   "execution_count": 30,
   "id": "b0ad0eab",
   "metadata": {},
   "outputs": [
    {
     "name": "stdout",
     "output_type": "stream",
     "text": [
      "True\n"
     ]
    }
   ],
   "source": [
    "def contains_special_char(text):\n",
    "    import re\n",
    "    pattern = r'[^a-zA-Z0-9\\s]'\n",
    "    return bool(re.search(pattern, text))\n",
    "\n",
    "text = \"This is a sample text to check for special characters!\"\n",
    "print(contains_special_char(text))\n"
   ]
  },
  {
   "cell_type": "code",
   "execution_count": null,
   "id": "b4429c6b",
   "metadata": {},
   "outputs": [],
   "source": []
  }
 ],
 "metadata": {
  "kernelspec": {
   "display_name": "Python 3 (ipykernel)",
   "language": "python",
   "name": "python3"
  },
  "language_info": {
   "codemirror_mode": {
    "name": "ipython",
    "version": 3
   },
   "file_extension": ".py",
   "mimetype": "text/x-python",
   "name": "python",
   "nbconvert_exporter": "python",
   "pygments_lexer": "ipython3",
   "version": "3.9.12"
  }
 },
 "nbformat": 4,
 "nbformat_minor": 5
}
